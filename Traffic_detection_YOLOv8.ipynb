{
  "cells": [
    {
      "cell_type": "code",
      "execution_count": null,
      "metadata": {
        "id": "DlCPodE3ghIy"
      },
      "outputs": [],
      "source": [
        "\n",
        "\n",
        "import os\n",
        "import sys\n",
        "from tempfile import NamedTemporaryFile\n",
        "from urllib.request import urlopen\n",
        "from urllib.parse import unquote, urlparse\n",
        "from urllib.error import HTTPError\n",
        "from zipfile import ZipFile\n",
        "import tarfile\n",
        "import shutil\n",
        "\n",
        "CHUNK_SIZE = 40960\n",
        "DATA_SOURCE_MAPPING = 'cardetection:https%3A%2F%2Fstorage.googleapis.com%2Fkaggle-data-sets%2F4066836%2F7149559%2Fbundle%2Farchive.zip%3FX-Goog-Algorithm%3DGOOG4-RSA-SHA256%26X-Goog-Credential%3Dgcp-kaggle-com%2540kaggle-161607.iam.gserviceaccount.com%252F20240512%252Fauto%252Fstorage%252Fgoog4_request%26X-Goog-Date%3D20240512T063353Z%26X-Goog-Expires%3D259200%26X-Goog-SignedHeaders%3Dhost%26X-Goog-Signature%3D247fef6b16a62e45fba02e28b8cdd8bbd6d5d82ab8f35c05d16ef8bcbffb79d70a8abb3c1c3f43228088f4087dbb545b03912040bb49dd1bf029d32d72e0cf0f402cbb138bccdb5c3346b31c272e5a9e54783080c7f23de6fcefad336a0cd4a37d6dad0242a0204c6ba5f21ed4fd0e4bf4aebfd5365fa25b433f78ca835949af7f56edfb973b63645ffa870a36065f498683fef8862468369f59fd6f6732257ad3e5888fa2479a9fd6f16f9b13addd055037ee438653e4c4621e3542c24874634bd0476abd46819febcfe46aaca78c607da399726d7a060bfaecce49031a0871a427951be20e8fa55ae81f8e35caa71873fd0cf35f96d12cce7825d087b0648a'\n",
        "\n",
        "KAGGLE_INPUT_PATH='/kaggle/input'\n",
        "KAGGLE_WORKING_PATH='/kaggle/working'\n",
        "KAGGLE_SYMLINK='kaggle'\n",
        "\n",
        "!umount /kaggle/input/ 2> /dev/null\n",
        "shutil.rmtree('/kaggle/input', ignore_errors=True)\n",
        "os.makedirs(KAGGLE_INPUT_PATH, 0o777, exist_ok=True)\n",
        "os.makedirs(KAGGLE_WORKING_PATH, 0o777, exist_ok=True)\n",
        "\n",
        "try:\n",
        "  os.symlink(KAGGLE_INPUT_PATH, os.path.join(\"..\", 'input'), target_is_directory=True)\n",
        "except FileExistsError:\n",
        "  pass\n",
        "try:\n",
        "  os.symlink(KAGGLE_WORKING_PATH, os.path.join(\"..\", 'working'), target_is_directory=True)\n",
        "except FileExistsError:\n",
        "  pass\n",
        "\n",
        "for data_source_mapping in DATA_SOURCE_MAPPING.split(','):\n",
        "    directory, download_url_encoded = data_source_mapping.split(':')\n",
        "    download_url = unquote(download_url_encoded)\n",
        "    filename = urlparse(download_url).path\n",
        "    destination_path = os.path.join(KAGGLE_INPUT_PATH, directory)\n",
        "    try:\n",
        "        with urlopen(download_url) as fileres, NamedTemporaryFile() as tfile:\n",
        "            total_length = fileres.headers['content-length']\n",
        "            print(f'Downloading {directory}, {total_length} bytes compressed')\n",
        "            dl = 0\n",
        "            data = fileres.read(CHUNK_SIZE)\n",
        "            while len(data) > 0:\n",
        "                dl += len(data)\n",
        "                tfile.write(data)\n",
        "                done = int(50 * dl / int(total_length))\n",
        "                sys.stdout.write(f\"\\r[{'=' * done}{' ' * (50-done)}] {dl} bytes downloaded\")\n",
        "                sys.stdout.flush()\n",
        "                data = fileres.read(CHUNK_SIZE)\n",
        "            if filename.endswith('.zip'):\n",
        "              with ZipFile(tfile) as zfile:\n",
        "                zfile.extractall(destination_path)\n",
        "            else:\n",
        "              with tarfile.open(tfile.name) as tarfile:\n",
        "                tarfile.extractall(destination_path)\n",
        "            print(f'\\nDownloaded and uncompressed: {directory}')\n",
        "    except HTTPError as e:\n",
        "        print(f'Failed to load (likely expired) {download_url} to path {destination_path}')\n",
        "        continue\n",
        "    except OSError as e:\n",
        "        print(f'Failed to load {download_url} to path {destination_path}')\n",
        "        continue\n",
        "\n",
        "print('Data source import complete.')\n"
      ]
    },
    {
      "cell_type": "code",
      "execution_count": null,
      "metadata": {
        "_kg_hide-output": true,
        "collapsed": true,
        "execution": {
          "iopub.execute_input": "2023-11-27T20:52:59.964399Z",
          "iopub.status.busy": "2023-11-27T20:52:59.963942Z",
          "iopub.status.idle": "2023-11-27T20:53:15.309176Z",
          "shell.execute_reply": "2023-11-27T20:53:15.307891Z",
          "shell.execute_reply.started": "2023-11-27T20:52:59.96434Z"
        },
        "id": "UIFvPXvbghI1",
        "jupyter": {
          "outputs_hidden": true
        },
        "trusted": true
      },
      "outputs": [],
      "source": [
        "# Install Essential Libraries\n",
        "!pip install ultralytics"
      ]
    },
    {
      "cell_type": "code",
      "execution_count": null,
      "metadata": {
        "_kg_hide-output": true,
        "collapsed": true,
        "execution": {
          "iopub.execute_input": "2023-11-27T20:53:15.312125Z",
          "iopub.status.busy": "2023-11-27T20:53:15.311706Z",
          "iopub.status.idle": "2023-11-27T20:53:22.588051Z",
          "shell.execute_reply": "2023-11-27T20:53:22.587127Z",
          "shell.execute_reply.started": "2023-11-27T20:53:15.312086Z"
        },
        "id": "wdBS7dCyghI1",
        "jupyter": {
          "outputs_hidden": true
        },
        "trusted": true
      },
      "outputs": [],
      "source": [
        "# Import Essential Libraries\n",
        "import os\n",
        "import random\n",
        "import pandas as pd\n",
        "from PIL import Image\n",
        "import cv2\n",
        "from ultralytics import YOLO\n",
        "from IPython.display import Video\n",
        "import numpy as np\n",
        "import matplotlib.pyplot as plt\n",
        "import seaborn as sns\n",
        "sns.set(style='darkgrid')\n",
        "import pathlib\n",
        "import glob\n",
        "from tqdm.notebook import trange, tqdm\n",
        "import warnings\n",
        "warnings.filterwarnings('ignore')"
      ]
    },
    {
      "cell_type": "markdown",
      "metadata": {
        "id": "UNjTJPQCghI1"
      },
      "source": [
        "***3.1.1. Show Some Images From TrainSet***"
      ]
    },
    {
      "cell_type": "code",
      "execution_count": null,
      "metadata": {
        "execution": {
          "iopub.execute_input": "2023-11-27T20:53:22.589729Z",
          "iopub.status.busy": "2023-11-27T20:53:22.589267Z",
          "iopub.status.idle": "2023-11-27T20:53:25.543195Z",
          "shell.execute_reply": "2023-11-27T20:53:25.541982Z",
          "shell.execute_reply.started": "2023-11-27T20:53:22.589699Z"
        },
        "id": "adwtqC02ghI1",
        "trusted": true
      },
      "outputs": [],
      "source": [
        "Image_dir = '/kaggle/input/cardetection/car/train/images'\n",
        "\n",
        "num_samples = 9\n",
        "image_files = os.listdir(Image_dir)\n",
        "\n",
        "# Randomly select num_samples images\n",
        "rand_images = random.sample(image_files, num_samples)\n",
        "\n",
        "fig, axes = plt.subplots(3, 3, figsize=(11, 11))\n",
        "\n",
        "for i in range(num_samples):\n",
        "    image = rand_images[i]\n",
        "    ax = axes[i // 3, i % 3]\n",
        "    ax.imshow(plt.imread(os.path.join(Image_dir, image)))\n",
        "    ax.set_title(f'Image {i+1}')\n",
        "    ax.axis('off')\n",
        "\n",
        "plt.tight_layout()\n",
        "plt.show()"
      ]
    },
    {
      "cell_type": "code",
      "execution_count": null,
      "metadata": {
        "execution": {
          "iopub.execute_input": "2023-11-27T20:53:25.545286Z",
          "iopub.status.busy": "2023-11-27T20:53:25.545001Z",
          "iopub.status.idle": "2023-11-27T20:53:25.605662Z",
          "shell.execute_reply": "2023-11-27T20:53:25.604624Z",
          "shell.execute_reply.started": "2023-11-27T20:53:25.545259Z"
        },
        "id": "wZWXHRLsghI2",
        "trusted": true
      },
      "outputs": [],
      "source": [
        "# Get the size of the image\n",
        "image = cv2.imread(\"/kaggle/input/cardetection/car/train/images/00000_00000_00012_png.rf.23f94508dba03ef2f8bd187da2ec9c26.jpg\")\n",
        "h, w, c = image.shape\n",
        "print(f\"The image has dimensions {w}x{h} and {c} channels.\")"
      ]
    },
    {
      "cell_type": "code",
      "execution_count": null,
      "metadata": {
        "execution": {
          "iopub.execute_input": "2023-11-27T20:53:25.607698Z",
          "iopub.status.busy": "2023-11-27T20:53:25.607297Z",
          "iopub.status.idle": "2023-11-27T20:53:40.109541Z",
          "shell.execute_reply": "2023-11-27T20:53:40.10861Z",
          "shell.execute_reply.started": "2023-11-27T20:53:25.607661Z"
        },
        "id": "_Pq4QVCWghI2",
        "trusted": true
      },
      "outputs": [],
      "source": [
        "# Use a pretrained YOLOv8n model\n",
        "model = YOLO(\"yolov8n.pt\")\n",
        "\n",
        "# Use the model to detect object\n",
        "image = \"/kaggle/input/cardetection/car/train/images/FisheyeCamera_1_00228_png.rf.e7c43ee9b922f7b2327b8a00ccf46a4c.jpg\"\n",
        "result_predict = model.predict(source = image, imgsz=(416))\n",
        "\n",
        "# show results\n",
        "plot = result_predict[0].plot()\n",
        "plot = cv2.cvtColor(plot, cv2.COLOR_BGR2RGB)\n",
        "display(Image.fromarray(plot))"
      ]
    },
    {
      "cell_type": "markdown",
      "metadata": {
        "id": "bkApRBt7ghI2"
      },
      "source": [
        "***5.1.1. Training Step***"
      ]
    },
    {
      "cell_type": "code",
      "execution_count": null,
      "metadata": {
        "collapsed": true,
        "execution": {
          "iopub.execute_input": "2023-11-27T20:53:40.111441Z",
          "iopub.status.busy": "2023-11-27T20:53:40.111137Z",
          "iopub.status.idle": "2023-11-27T21:43:59.88327Z",
          "shell.execute_reply": "2023-11-27T21:43:59.881702Z",
          "shell.execute_reply.started": "2023-11-27T20:53:40.111414Z"
        },
        "id": "k7wANcjYghI2",
        "jupyter": {
          "outputs_hidden": true
        },
        "trusted": true
      },
      "outputs": [],
      "source": [
        "# Build from YAML and transfer weights\n",
        "Final_model = YOLO('yolov8n.yaml').load('yolov8n.pt')\n",
        "\n",
        "# Training The Final Model\n",
        "Result_Final_model = Final_model.train(data=\"/kaggle/input/cardetection/car/data.yaml\",epochs=100, imgsz = 416, batch = 64 ,lr0=0.0001, dropout= 0.15, device = 0)\n"
      ]
    },
    {
      "cell_type": "code",
      "execution_count": null,
      "metadata": {
        "execution": {
          "iopub.execute_input": "2023-11-27T22:06:21.967947Z",
          "iopub.status.busy": "2023-11-27T22:06:21.967239Z",
          "iopub.status.idle": "2023-11-27T22:06:21.972574Z",
          "shell.execute_reply": "2023-11-27T22:06:21.97142Z",
          "shell.execute_reply.started": "2023-11-27T22:06:21.96791Z"
        },
        "id": "d23O5QrdghI2",
        "trusted": true
      },
      "outputs": [],
      "source": [
        "list_of_metrics = [\"P_curve.png\",\"R_curve.png\",\"confusion_matrix.png\"]"
      ]
    },
    {
      "cell_type": "code",
      "execution_count": null,
      "metadata": {
        "execution": {
          "iopub.execute_input": "2023-11-27T22:06:42.487124Z",
          "iopub.status.busy": "2023-11-27T22:06:42.486342Z",
          "iopub.status.idle": "2023-11-27T22:06:45.704609Z",
          "shell.execute_reply": "2023-11-27T22:06:45.703609Z",
          "shell.execute_reply.started": "2023-11-27T22:06:42.48709Z"
        },
        "id": "T3ByeiO7ghI2",
        "trusted": true
      },
      "outputs": [],
      "source": [
        "# Load the image\n",
        "for i in list_of_metrics:\n",
        "    image = cv2.imread(f'/kaggle/working/runs/detect/train/{i}')\n",
        "\n",
        "    # Create a larger figure\n",
        "    plt.figure(figsize=(16, 12))\n",
        "\n",
        "    # Display the image\n",
        "    plt.imshow(image)\n",
        "\n",
        "    # Show the plot\n",
        "    plt.show()"
      ]
    },
    {
      "cell_type": "code",
      "execution_count": null,
      "metadata": {
        "execution": {
          "iopub.execute_input": "2023-11-27T21:48:05.411464Z",
          "iopub.status.busy": "2023-11-27T21:48:05.410975Z",
          "iopub.status.idle": "2023-11-27T21:48:05.45226Z",
          "shell.execute_reply": "2023-11-27T21:48:05.45119Z",
          "shell.execute_reply.started": "2023-11-27T21:48:05.411426Z"
        },
        "id": "PuA1p841ghI2",
        "trusted": true
      },
      "outputs": [],
      "source": [
        "Result_Final_model = pd.read_csv('/kaggle/working/runs/detect/train/results.csv')\n",
        "Result_Final_model.tail(10)"
      ]
    },
    {
      "cell_type": "code",
      "execution_count": null,
      "metadata": {
        "execution": {
          "iopub.execute_input": "2023-11-27T22:09:20.115731Z",
          "iopub.status.busy": "2023-11-27T22:09:20.115332Z",
          "iopub.status.idle": "2023-11-27T22:09:23.159641Z",
          "shell.execute_reply": "2023-11-27T22:09:23.158635Z",
          "shell.execute_reply.started": "2023-11-27T22:09:20.115699Z"
        },
        "id": "PBKVmzYyghI2",
        "trusted": true
      },
      "outputs": [],
      "source": [
        "# Read the results.csv file as a pandas dataframe\n",
        "Result_Final_model.columns = df.columns.str.strip()\n",
        "\n",
        "# Create subplots\n",
        "fig, axs = plt.subplots(nrows=5, ncols=2, figsize=(15, 15))\n",
        "\n",
        "# Plot the columns using seaborn\n",
        "sns.lineplot(x='epoch', y='train/box_loss', data=df, ax=axs[0,0])\n",
        "sns.lineplot(x='epoch', y='train/cls_loss', data=df, ax=axs[0,1])\n",
        "sns.lineplot(x='epoch', y='train/dfl_loss', data=df, ax=axs[1,0])\n",
        "sns.lineplot(x='epoch', y='metrics/precision(B)', data=df, ax=axs[1,1])\n",
        "sns.lineplot(x='epoch', y='metrics/recall(B)', data=df, ax=axs[2,0])\n",
        "sns.lineplot(x='epoch', y='metrics/mAP50(B)', data=df, ax=axs[2,1])\n",
        "sns.lineplot(x='epoch', y='metrics/mAP50-95(B)', data=df, ax=axs[3,0])\n",
        "sns.lineplot(x='epoch', y='val/box_loss', data=df, ax=axs[3,1])\n",
        "sns.lineplot(x='epoch', y='val/cls_loss', data=df, ax=axs[4,0])\n",
        "sns.lineplot(x='epoch', y='val/dfl_loss', data=df, ax=axs[4,1])\n",
        "\n",
        "# Set titles and axis labels for each subplot\n",
        "axs[0,0].set(title='Train Box Loss')\n",
        "axs[0,1].set(title='Train Class Loss')\n",
        "axs[1,0].set(title='Train DFL Loss')\n",
        "axs[1,1].set(title='Metrics Precision (B)')\n",
        "axs[2,0].set(title='Metrics Recall (B)')\n",
        "axs[2,1].set(title='Metrics mAP50 (B)')\n",
        "axs[3,0].set(title='Metrics mAP50-95 (B)')\n",
        "axs[3,1].set(title='Validation Box Loss')\n",
        "axs[4,0].set(title='Validation Class Loss')\n",
        "axs[4,1].set(title='Validation DFL Loss')\n",
        "\n",
        "\n",
        "plt.suptitle('Training Metrics and Loss', fontsize=24)\n",
        "plt.subplots_adjust(top=0.8)\n",
        "plt.tight_layout()\n",
        "plt.show()"
      ]
    },
    {
      "cell_type": "code",
      "execution_count": null,
      "metadata": {
        "execution": {
          "iopub.execute_input": "2023-11-27T22:13:49.810615Z",
          "iopub.status.busy": "2023-11-27T22:13:49.809862Z",
          "iopub.status.idle": "2023-11-27T22:14:07.062529Z",
          "shell.execute_reply": "2023-11-27T22:14:07.061486Z",
          "shell.execute_reply.started": "2023-11-27T22:13:49.810581Z"
        },
        "id": "cisjYlP0ghI2",
        "trusted": true
      },
      "outputs": [],
      "source": [
        "# Loading the best performing model\n",
        "Valid_model = YOLO('/kaggle/working/runs/detect/train/weights/best.pt')\n",
        "\n",
        "# Evaluating the model on the testset\n",
        "metrics = Valid_model.val(split = 'test')"
      ]
    },
    {
      "cell_type": "code",
      "execution_count": null,
      "metadata": {
        "execution": {
          "iopub.execute_input": "2023-11-27T22:18:07.527134Z",
          "iopub.status.busy": "2023-11-27T22:18:07.526298Z",
          "iopub.status.idle": "2023-11-27T22:18:07.533443Z",
          "shell.execute_reply": "2023-11-27T22:18:07.53243Z",
          "shell.execute_reply.started": "2023-11-27T22:18:07.527102Z"
        },
        "id": "pp4sDcfnghI2",
        "trusted": true
      },
      "outputs": [],
      "source": [
        "# final results\n",
        "print(\"precision(B): \", metrics.results_dict[\"metrics/precision(B)\"])\n",
        "print(\"metrics/recall(B): \", metrics.results_dict[\"metrics/recall(B)\"])\n",
        "print(\"metrics/mAP50(B): \", metrics.results_dict[\"metrics/mAP50(B)\"])\n",
        "print(\"metrics/mAP50-95(B): \", metrics.results_dict[\"metrics/mAP50-95(B)\"])"
      ]
    },
    {
      "cell_type": "code",
      "execution_count": null,
      "metadata": {
        "execution": {
          "iopub.execute_input": "2023-11-27T22:21:25.931584Z",
          "iopub.status.busy": "2023-11-27T22:21:25.930925Z",
          "iopub.status.idle": "2023-11-27T22:21:26.333177Z",
          "shell.execute_reply": "2023-11-27T22:21:26.332173Z",
          "shell.execute_reply.started": "2023-11-27T22:21:25.931551Z"
        },
        "id": "IG7sKPNBghI2",
        "trusted": true
      },
      "outputs": [],
      "source": [
        "# Path to the directory containing the images\n",
        "image_dir = '/kaggle/input/cardetection/car/test/images'\n",
        "\n",
        "# Get a list of all image files in the directory\n",
        "image_files = [os.path.join(image_dir, file) for file in os.listdir(image_dir) if file.endswith('.jpg')]\n",
        "\n",
        "# Randomly select 10 images from the directory\n",
        "random_images = random.sample(image_files, k=10)\n",
        "\n",
        "for image_path in random_images:\n",
        "    image = cv2.imread(image_path)  # Replace with your preferred method of reading the image\n",
        "    results = Final_model.predict([image], save=True, imgsz=416, conf=0.5, iou=0.7)\n",
        "    #results.append(result)"
      ]
    },
    {
      "cell_type": "code",
      "execution_count": null,
      "metadata": {
        "execution": {
          "iopub.execute_input": "2023-11-27T22:22:31.718306Z",
          "iopub.status.busy": "2023-11-27T22:22:31.717407Z",
          "iopub.status.idle": "2023-11-27T22:22:35.013493Z",
          "shell.execute_reply": "2023-11-27T22:22:35.01244Z",
          "shell.execute_reply.started": "2023-11-27T22:22:31.718268Z"
        },
        "id": "ofwZBSwMghI2",
        "trusted": true
      },
      "outputs": [],
      "source": [
        "# View results\n",
        "for i in range(2,12):\n",
        "    plt.imshow(plt.imread(f'/kaggle/working/runs/detect/train{i}/image0.jpg'))\n",
        "    plt.show()"
      ]
    },
    {
      "cell_type": "code",
      "execution_count": null,
      "metadata": {
        "collapsed": true,
        "execution": {
          "iopub.execute_input": "2023-11-27T22:31:58.875627Z",
          "iopub.status.busy": "2023-11-27T22:31:58.874802Z",
          "iopub.status.idle": "2023-11-27T22:32:01.831049Z",
          "shell.execute_reply": "2023-11-27T22:32:01.830048Z",
          "shell.execute_reply.started": "2023-11-27T22:31:58.87558Z"
        },
        "id": "6WhdHZxaghI2",
        "jupyter": {
          "outputs_hidden": true
        },
        "trusted": true
      },
      "outputs": [],
      "source": [
        "# Export the model\n",
        "video_model.export(format='onnx')"
      ]
    },
    {
      "cell_type": "code",
      "execution_count": null,
      "metadata": {
        "execution": {
          "iopub.execute_input": "2023-11-27T22:23:15.267925Z",
          "iopub.status.busy": "2023-11-27T22:23:15.26756Z",
          "iopub.status.idle": "2023-11-27T22:23:20.254576Z",
          "shell.execute_reply": "2023-11-27T22:23:20.253425Z",
          "shell.execute_reply.started": "2023-11-27T22:23:15.267898Z"
        },
        "id": "-3npLv0QghI2",
        "trusted": true
      },
      "outputs": [],
      "source": [
        "# Convert mp4\n",
        "!ffmpeg -y -loglevel panic -i /kaggle/input/cardetection/video.mp4 output.mp4\n",
        "\n",
        "# Display the video\n",
        "Video(\"output.mp4\", width=960)"
      ]
    },
    {
      "cell_type": "markdown",
      "metadata": {
        "id": "I_FlfstmghI2"
      },
      "source": [
        "<div style=\"color:white;display:fill;border-radius:8px;\n",
        "            background-color:#03112A;font-size:150%;\n",
        "            letter-spacing:1.0px;background-image: url(https://i.imgur.com/GVd0La1.png)\">\n",
        "    <p style=\"padding: 8px;color:white;\"><b><b><span style='color:#e61227'>7.2 |</span></b> Predict By Pr-Trained YOLOv8 </b></p>\n",
        "</div>"
      ]
    },
    {
      "cell_type": "code",
      "execution_count": null,
      "metadata": {
        "_kg_hide-input": true,
        "collapsed": true,
        "execution": {
          "iopub.execute_input": "2023-11-27T22:24:22.294514Z",
          "iopub.status.busy": "2023-11-27T22:24:22.293676Z",
          "iopub.status.idle": "2023-11-27T22:24:32.70801Z",
          "shell.execute_reply": "2023-11-27T22:24:32.707047Z",
          "shell.execute_reply.started": "2023-11-27T22:24:22.294474Z"
        },
        "id": "OOIagOCFghI2",
        "jupyter": {
          "outputs_hidden": true
        },
        "trusted": true
      },
      "outputs": [],
      "source": [
        "# Load a pr-trained model\n",
        "video_model = YOLO(\"yolov8n.pt\")\n",
        "\n",
        "# Use the model to detect signs\n",
        "video_model.predict(source=\"/kaggle/input/cardetection/video.mp4\", show=True, save = True)"
      ]
    },
    {
      "cell_type": "code",
      "execution_count": null,
      "metadata": {
        "execution": {
          "iopub.execute_input": "2023-11-27T22:25:52.233412Z",
          "iopub.status.busy": "2023-11-27T22:25:52.232541Z",
          "iopub.status.idle": "2023-11-27T22:25:56.390404Z",
          "shell.execute_reply": "2023-11-27T22:25:56.389212Z",
          "shell.execute_reply.started": "2023-11-27T22:25:52.233358Z"
        },
        "id": "VpIe_Ys5ghI2",
        "trusted": true
      },
      "outputs": [],
      "source": [
        "# show result\n",
        "# Convert format\n",
        "!ffmpeg -y -loglevel panic -i /kaggle/working/runs/detect/predict/video.avi result_out.mp4\n",
        "\n",
        "# Display the video\n",
        "Video(\"result_out.mp4\", width=960)"
      ]
    }
  ],
  "metadata": {
    "colab": {
      "provenance": []
    },
    "kaggle": {
      "accelerator": "nvidiaTeslaT4",
      "dataSources": [
        {
          "datasetId": 4066836,
          "sourceId": 7149559,
          "sourceType": "datasetVersion"
        }
      ],
      "dockerImageVersionId": 30558,
      "isGpuEnabled": true,
      "isInternetEnabled": false,
      "language": "python",
      "sourceType": "notebook"
    },
    "kernelspec": {
      "display_name": "Python 3",
      "language": "python",
      "name": "python3"
    },
    "language_info": {
      "codemirror_mode": {
        "name": "ipython",
        "version": 3
      },
      "file_extension": ".py",
      "mimetype": "text/x-python",
      "name": "python",
      "nbconvert_exporter": "python",
      "pygments_lexer": "ipython3",
      "version": "3.10.12"
    },
    "papermill": {
      "default_parameters": {},
      "duration": 930.231796,
      "end_time": "2022-12-25T15:05:01.303118",
      "environment_variables": {},
      "exception": null,
      "input_path": "__notebook__.ipynb",
      "output_path": "__notebook__.ipynb",
      "parameters": {},
      "start_time": "2022-12-25T14:49:31.071322",
      "version": "2.3.4"
    }
  },
  "nbformat": 4,
  "nbformat_minor": 0
}
